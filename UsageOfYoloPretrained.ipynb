{
 "cells": [
  {
   "cell_type": "code",
   "id": "initial_id",
   "metadata": {
    "collapsed": true
   },
   "source": [
    "from ultralytics import YOLO\n",
    "import cv2\n",
    "from pytubefix import YouTube\n",
    "from pytubefix.cli import on_progress\n",
    "import os"
   ],
   "outputs": [],
   "execution_count": null
  },
  {
   "metadata": {},
   "cell_type": "markdown",
   "source": "# Using Yolo - 11s",
   "id": "ef94fad2620853f9"
  },
  {
   "metadata": {},
   "cell_type": "code",
   "source": "model = YOLO('yolo11s.pt')",
   "id": "1463c83df2a11f29",
   "outputs": [],
   "execution_count": null
  },
  {
   "metadata": {},
   "cell_type": "markdown",
   "source": "# Download of a Youtube's video of butterflies",
   "id": "70d0b721c499cf94"
  },
  {
   "metadata": {},
   "cell_type": "code",
   "source": [
    "url = \"https://www.youtube.com/watch?v=WjEewImqiRU\"\n",
    "yt = YouTube(url, on_progress_callback = on_progress)\n",
    "print(yt.title)\n",
    "stream = yt.streams.filter(progressive=True, file_extension='mp4').order_by('resolution').last()\n",
    "video_path = 'downloaded_video.mp4'\n",
    "stream.download(filename=video_path)"
   ],
   "id": "5ba5b1456e3cefed",
   "outputs": [],
   "execution_count": null
  },
  {
   "metadata": {},
   "cell_type": "markdown",
   "source": [
    "## Iterate through the video\n",
    "Applying the model every to frames at intervals of 3 seconds, and saving the result image with the annotations."
   ],
   "id": "818f5476bdc0373d"
  },
  {
   "metadata": {},
   "cell_type": "code",
   "source": [
    "cap = cv2.VideoCapture(video_path)\n",
    "fps = cap.get(cv2.CAP_PROP_FPS)\n",
    "frames_to_skip = int(fps * 3)\n",
    "print(frames_to_skip)\n",
    "frame_count = 0\n",
    "image_count = 0\n",
    "while cap.isOpened():\n",
    "    success, frame = cap.read()\n",
    "    if success:\n",
    "        if frame_count % frames_to_skip == 0:\n",
    "            results = model(frame)\n",
    "            annotated_frame = results[0].plot()\n",
    "            cv2.imwrite(f'annotated_frame/photogram_{image_count:02d}.jpeg', annotated_frame)\n",
    "            image_count += 1\n",
    "        frame_count += 1\n",
    "    else:\n",
    "        break\n",
    "if cap.isOpened():\n",
    "    cap.release()"
   ],
   "id": "2e5427a49753f30e",
   "outputs": [],
   "execution_count": null
  },
  {
   "metadata": {},
   "cell_type": "markdown",
   "source": "# With the images of the challenge: \"Butterfly detection\"",
   "id": "4e0b5dd60fec42ac"
  },
  {
   "metadata": {},
   "cell_type": "code",
   "source": [
    "for image_name in os.listdir('challenge_images'):\n",
    "    image = cv2.imread(f'challenge_images/{image_name}')\n",
    "    results = model(image)\n",
    "    annotated_frame = results[0].plot()\n",
    "    cv2.imwrite(f'challenge_annotated_images/{image_name}', annotated_frame)"
   ],
   "id": "15c64b6f52389c46",
   "outputs": [],
   "execution_count": null
  },
  {
   "metadata": {},
   "cell_type": "code",
   "source": "",
   "id": "35b0b4f1843b5a06",
   "outputs": [],
   "execution_count": null
  }
 ],
 "metadata": {
  "kernelspec": {
   "display_name": "Python 3",
   "language": "python",
   "name": "python3"
  },
  "language_info": {
   "codemirror_mode": {
    "name": "ipython",
    "version": 2
   },
   "file_extension": ".py",
   "mimetype": "text/x-python",
   "name": "python",
   "nbconvert_exporter": "python",
   "pygments_lexer": "ipython2",
   "version": "2.7.6"
  }
 },
 "nbformat": 4,
 "nbformat_minor": 5
}
