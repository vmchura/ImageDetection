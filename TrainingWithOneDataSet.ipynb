{
 "cells": [
  {
   "metadata": {},
   "cell_type": "code",
   "source": [
    "import ultralytics\n",
    "import os\n",
    "from dotenv import load_dotenv\n",
    "from roboflow import Roboflow\n",
    "import cv2\n",
    "from ultralytics import YOLO\n"
   ],
   "id": "a9cf1a5dc659e322",
   "outputs": [],
   "execution_count": null
  },
  {
   "cell_type": "code",
   "id": "initial_id",
   "metadata": {
    "collapsed": true
   },
   "source": [
    "load_dotenv()\n",
    "ultralytics.checks()"
   ],
   "outputs": [],
   "execution_count": null
  },
  {
   "metadata": {},
   "cell_type": "markdown",
   "source": "# Download dataset with 2096 butterflies.",
   "id": "fc1e64c1aae83798"
  },
  {
   "metadata": {},
   "cell_type": "code",
   "source": [
    "rf = Roboflow(api_key=os.getenv('ROBOFLOW_API_KEY'))\n",
    "workspace = rf.workspace(\"firstwp-gzzwu\")\n",
    "project = workspace.project(\"butterfly-uajhb-ab2co\")\n",
    "version = project.version(3)\n",
    "dataset = version.download(\"yolov11\")"
   ],
   "id": "bb084fac148f2d9c",
   "outputs": [],
   "execution_count": null
  },
  {
   "metadata": {},
   "cell_type": "markdown",
   "source": "# Train it using yolo-11-s and image size of 640",
   "id": "d6858c194b56cfb3"
  },
  {
   "metadata": {},
   "cell_type": "code",
   "source": "# !yolo task=detect mode=train model=yolo11s.pt data={dataset.location}/data.yaml epochs=10 imgsz=640 plots=True",
   "id": "f602b49088641549",
   "outputs": [],
   "execution_count": null
  },
  {
   "metadata": {},
   "cell_type": "code",
   "source": "# Evaluate the model",
   "id": "c14cb2698576773e",
   "outputs": [],
   "execution_count": null
  },
  {
   "metadata": {},
   "cell_type": "code",
   "source": "!yolo task=detect mode=val model=runs/colab/weights/best.pt data={dataset.location}/data.yaml",
   "id": "764c99da7a2005b8",
   "outputs": [],
   "execution_count": null
  },
  {
   "metadata": {},
   "cell_type": "code",
   "source": "!yolo task=detect mode=predict model=runs/colab/weights/best.pt conf=0.55 source=report_images_test save=True",
   "id": "d9afb2f72d674e5a",
   "outputs": [],
   "execution_count": null
  },
  {
   "metadata": {},
   "cell_type": "code",
   "source": "model_trained = YOLO(\"runs/colab/weights/best.pt\")",
   "id": "f5b29b59040d899a",
   "outputs": [],
   "execution_count": null
  },
  {
   "metadata": {},
   "cell_type": "code",
   "source": [
    "actual_results = []\n",
    "expected_predictions = []"
   ],
   "id": "72800f5b34762bcc",
   "outputs": [],
   "execution_count": null
  },
  {
   "metadata": {},
   "cell_type": "code",
   "source": [
    "for expected_label, directory in [(0, os.getenv('NEGATIVE_IMAGES_CHALLENGE_PATH')), (1, os.getenv('POSITIVE_IMAGES_CHALLENGE_PATH'))]:\n",
    "    list_images = os.listdir(directory)\n",
    "    expected_predictions.extend([expected_label] * len(list_images))\n",
    "    for image_name in list_images:\n",
    "        results = model_trained(os.path.join(directory, image_name), conf=0.55)\n",
    "        r = [1 for k in results if len(k.boxes.cls.cpu().numpy()) > 0]\n",
    "        actual_results.append(1 if len(r) > 0 else 0)"
   ],
   "id": "95d4dbd5e21d6ad0",
   "outputs": [],
   "execution_count": null
  },
  {
   "metadata": {},
   "cell_type": "code",
   "source": "from sklearn.metrics import accuracy_score, f1_score",
   "id": "671ab1f7e06f9552",
   "outputs": [],
   "execution_count": null
  },
  {
   "metadata": {},
   "cell_type": "code",
   "source": [
    "accuracy = accuracy_score(expected_predictions, actual_results)\n",
    "f1 = f1_score(expected_predictions, actual_results, zero_division=0)\n",
    "print(accuracy)\n",
    "print(f1)"
   ],
   "id": "a947f31ff6b239c3",
   "outputs": [],
   "execution_count": null
  },
  {
   "metadata": {},
   "cell_type": "code",
   "source": [
    "accuracy = accuracy_score(expected_predictions, actual_results)\n",
    "f1 = f1_score(expected_predictions, actual_results, zero_division=0)\n",
    "print(accuracy)\n",
    "print(f1)"
   ],
   "id": "a16d0e0a4861c94a",
   "outputs": [],
   "execution_count": null
  },
  {
   "metadata": {},
   "cell_type": "code",
   "source": "",
   "id": "d31ae371e5687102",
   "outputs": [],
   "execution_count": null
  }
 ],
 "metadata": {
  "kernelspec": {
   "display_name": "Python 3",
   "language": "python",
   "name": "python3"
  },
  "language_info": {
   "codemirror_mode": {
    "name": "ipython",
    "version": 2
   },
   "file_extension": ".py",
   "mimetype": "text/x-python",
   "name": "python",
   "nbconvert_exporter": "python",
   "pygments_lexer": "ipython2",
   "version": "2.7.6"
  }
 },
 "nbformat": 4,
 "nbformat_minor": 5
}
