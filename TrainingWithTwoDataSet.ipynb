{
 "cells": [
  {
   "metadata": {},
   "cell_type": "code",
   "source": [
    "import ultralytics\n",
    "import os\n",
    "from dotenv import load_dotenv\n",
    "from roboflow import Roboflow\n",
    "import cv2\n",
    "from ultralytics import YOLO\n"
   ],
   "id": "a9cf1a5dc659e322",
   "outputs": [],
   "execution_count": null
  },
  {
   "cell_type": "code",
   "id": "initial_id",
   "metadata": {
    "collapsed": true
   },
   "source": [
    "load_dotenv()\n",
    "ultralytics.checks()"
   ],
   "outputs": [],
   "execution_count": null
  },
  {
   "metadata": {},
   "cell_type": "markdown",
   "source": "# Download dataset with 6369 butterflies.",
   "id": "3aaf1ff39e7e0dd5"
  },
  {
   "metadata": {},
   "cell_type": "code",
   "source": [
    "rf = Roboflow(api_key=os.getenv('ROBOFLOW_API_KEY'))\n",
    "workspace = rf.workspace(\"firstwp-gzzwu\")\n",
    "project = workspace.project(\"butterfliesenhanced\")\n",
    "version = project.version(1)\n",
    "dataset = version.download(\"yolov11\")"
   ],
   "id": "bb084fac148f2d9c",
   "outputs": [],
   "execution_count": null
  },
  {
   "metadata": {},
   "cell_type": "markdown",
   "source": "# Train it using yolo-11-s and image size of 1024 with a decay for learning rate",
   "id": "93ad3da419ce5a29"
  },
  {
   "metadata": {},
   "cell_type": "code",
   "source": "# !yolo task=detect mode=train model=yolo11s.pt data={dataset.location}/data.yaml epochs=100 imgsz=1024 lr0=0.001 weight_decay=0.0005 patience=5 plots=True",
   "id": "f602b49088641549",
   "outputs": [],
   "execution_count": null
  },
  {
   "metadata": {},
   "cell_type": "code",
   "source": "!yolo task=detect mode=val model=runs/double_dataset_bigger/weights/best.pt data={dataset.location}/data.yaml",
   "id": "764c99da7a2005b8",
   "outputs": [],
   "execution_count": null
  },
  {
   "metadata": {},
   "cell_type": "code",
   "source": "!yolo task=detect mode=predict model=runs/double_dataset_bigger/weights/best.pt conf=0.69 source=report_images_test save=True",
   "id": "d9afb2f72d674e5a",
   "outputs": [],
   "execution_count": null
  },
  {
   "metadata": {},
   "cell_type": "code",
   "source": "model_trained = YOLO(\"runs/double_dataset_bigger/weights/best.pt\")",
   "id": "f5b29b59040d899a",
   "outputs": [],
   "execution_count": null
  },
  {
   "metadata": {},
   "cell_type": "code",
   "source": [
    "actual_results = []\n",
    "expected_predictions = []"
   ],
   "id": "4e945a64bdad0d50",
   "outputs": [],
   "execution_count": null
  },
  {
   "metadata": {},
   "cell_type": "markdown",
   "source": "For the challenge, to evaluate the metrics for the classification problem I used accuracy and f1 score.",
   "id": "61c441546f73e5ac"
  },
  {
   "metadata": {},
   "cell_type": "code",
   "source": [
    "for expected_label, directory in [(0, os.getenv('NEGATIVE_IMAGES_CHALLENGE_PATH')), (1, os.getenv('POSITIVE_IMAGES_CHALLENGE_PATH'))]:\n",
    "    list_images = os.listdir(directory)\n",
    "    expected_predictions.extend([expected_label] * len(list_images))\n",
    "    for image_name in list_images:\n",
    "        results = model_trained(os.path.join(directory, image_name), conf=0.69)\n",
    "        r = [1 for k in results if len(k.boxes.cls.cpu().numpy()) > 0]\n",
    "        actual_results.append(1 if len(r) > 0 else 0)"
   ],
   "id": "95d4dbd5e21d6ad0",
   "outputs": [],
   "execution_count": null
  },
  {
   "metadata": {},
   "cell_type": "code",
   "source": "from sklearn.metrics import accuracy_score, f1_score",
   "id": "671ab1f7e06f9552",
   "outputs": [],
   "execution_count": null
  },
  {
   "metadata": {},
   "cell_type": "code",
   "source": [
    "accuracy = accuracy_score(expected_predictions, actual_results)\n",
    "f1 = f1_score(expected_predictions, actual_results, zero_division=0)\n",
    "print(accuracy)\n",
    "print(f1)"
   ],
   "id": "a947f31ff6b239c3",
   "outputs": [],
   "execution_count": null
  },
  {
   "metadata": {},
   "cell_type": "code",
   "source": "sum(actual_results)",
   "id": "1bc9407ebf1aa981",
   "outputs": [],
   "execution_count": null
  },
  {
   "metadata": {},
   "cell_type": "code",
   "source": "sum(expected_predictions)",
   "id": "bf4a6e21ceaf20aa",
   "outputs": [],
   "execution_count": null
  },
  {
   "metadata": {},
   "cell_type": "code",
   "source": "len(expected_predictions)",
   "id": "6092ebaa97379050",
   "outputs": [],
   "execution_count": null
  },
  {
   "metadata": {},
   "cell_type": "code",
   "source": "",
   "id": "eb7181a49e9b9c18",
   "outputs": [],
   "execution_count": null
  },
  {
   "metadata": {},
   "cell_type": "code",
   "source": "",
   "id": "ad488a25a11a8527",
   "outputs": [],
   "execution_count": null
  }
 ],
 "metadata": {
  "kernelspec": {
   "display_name": "Python 3",
   "language": "python",
   "name": "python3"
  },
  "language_info": {
   "codemirror_mode": {
    "name": "ipython",
    "version": 2
   },
   "file_extension": ".py",
   "mimetype": "text/x-python",
   "name": "python",
   "nbconvert_exporter": "python",
   "pygments_lexer": "ipython2",
   "version": "2.7.6"
  }
 },
 "nbformat": 4,
 "nbformat_minor": 5
}
